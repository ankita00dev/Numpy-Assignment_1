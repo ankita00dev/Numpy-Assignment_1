{
 "cells": [
  {
   "cell_type": "code",
   "execution_count": 12,
   "id": "df1ea57d-b6a8-4d09-b11a-88d25508cc60",
   "metadata": {},
   "outputs": [
    {
     "name": "stdout",
     "output_type": "stream",
     "text": [
      "[0 0 0 0 1 0 0 0 0 0]\n"
     ]
    }
   ],
   "source": [
    "#1. Create a null vector of size 10 but the fifth value which is 1.\n",
    "import numpy as np \n",
    "# data = (np.arange(10)==4).astype(int)\n",
    "# data\n",
    "\n",
    "#or \n",
    "b=np.array([int(x==4) for x in range(10)])\n",
    "print(b)"
   ]
  },
  {
   "cell_type": "code",
   "execution_count": 13,
   "id": "e18bb563-478e-4c5b-a05c-05434a2aeede",
   "metadata": {},
   "outputs": [
    {
     "data": {
      "text/plain": [
       "array([10, 11, 12, 13, 14, 15, 16, 17, 18, 19, 20, 21, 22, 23, 24, 25, 26,\n",
       "       27, 28, 29, 30, 31, 32, 33, 34, 35, 36, 37, 38, 39, 40, 41, 42, 43,\n",
       "       44, 45, 46, 47, 48, 49])"
      ]
     },
     "execution_count": 13,
     "metadata": {},
     "output_type": "execute_result"
    }
   ],
   "source": [
    "#2. Create a vector with values ranging from 10 to 49.\n",
    "import numpy as np \n",
    "a = np.arange(10,50)\n",
    "a"
   ]
  },
  {
   "cell_type": "code",
   "execution_count": 16,
   "id": "e0c6500f-41ca-4fbc-be8f-b8d50a73a56e",
   "metadata": {},
   "outputs": [
    {
     "data": {
      "text/plain": [
       "array([[0, 1, 2],\n",
       "       [3, 4, 5],\n",
       "       [6, 7, 8]])"
      ]
     },
     "execution_count": 16,
     "metadata": {},
     "output_type": "execute_result"
    }
   ],
   "source": [
    "#3. Create a 3x3 matrix with values ranging from 0 to 8\n",
    "import numpy as np \n",
    "a = np.arange(0,9).reshape(3,3)\n",
    "a"
   ]
  },
  {
   "cell_type": "code",
   "execution_count": 18,
   "id": "2e104a21-2bb9-4231-b691-211b688df1cc",
   "metadata": {},
   "outputs": [
    {
     "data": {
      "text/plain": [
       "(array([0, 1, 4], dtype=int64),)"
      ]
     },
     "execution_count": 18,
     "metadata": {},
     "output_type": "execute_result"
    }
   ],
   "source": [
    "#4. Find indices of non-zero elements from [1,2,0,0,4,0]\n",
    "import numpy as np \n",
    "a = [1,2,0,0,4,0]\n",
    "np.nonzero(a)"
   ]
  },
  {
   "cell_type": "code",
   "execution_count": 42,
   "id": "8ced08b0-024c-478d-873b-ae744c217ec4",
   "metadata": {},
   "outputs": [
    {
     "data": {
      "text/plain": [
       "array([[3, 7, 3, 2, 4, 6, 0, 3, 3, 5],\n",
       "       [7, 4, 7, 2, 4, 7, 0, 1, 4, 4],\n",
       "       [8, 2, 6, 9, 8, 8, 1, 3, 3, 6],\n",
       "       [5, 6, 5, 1, 8, 9, 6, 4, 5, 7],\n",
       "       [2, 4, 9, 7, 4, 7, 0, 4, 2, 4],\n",
       "       [9, 0, 8, 0, 2, 9, 1, 6, 2, 9],\n",
       "       [9, 5, 2, 4, 5, 1, 2, 9, 0, 6],\n",
       "       [2, 2, 7, 6, 0, 0, 6, 6, 6, 9],\n",
       "       [4, 9, 7, 4, 7, 2, 0, 8, 3, 8],\n",
       "       [5, 1, 1, 4, 9, 0, 9, 6, 8, 3]])"
      ]
     },
     "execution_count": 42,
     "metadata": {},
     "output_type": "execute_result"
    }
   ],
   "source": [
    "#5. Create a 10x10 array with random values and find the minimum and maximum values.\n",
    "# import numpy as np \n",
    "# a = np.random.randint(0,100,(10,10))\n",
    "# a\n",
    "\n",
    "#or\n",
    "import numpy as np \n",
    "from numpy import random\n",
    "b = np.random.randint(0,10,(10,10))\n",
    "b"
   ]
  },
  {
   "cell_type": "code",
   "execution_count": 30,
   "id": "6fa1de0b-a440-41b2-8fd3-bd20d69f4642",
   "metadata": {},
   "outputs": [
    {
     "data": {
      "text/plain": [
       "98"
      ]
     },
     "execution_count": 30,
     "metadata": {},
     "output_type": "execute_result"
    }
   ],
   "source": []
  },
  {
   "cell_type": "code",
   "execution_count": 31,
   "id": "0424c929-2435-4bda-973a-05227ffab909",
   "metadata": {},
   "outputs": [
    {
     "data": {
      "text/plain": [
       "1"
      ]
     },
     "execution_count": 31,
     "metadata": {},
     "output_type": "execute_result"
    }
   ],
   "source": [
    "a.min()"
   ]
  },
  {
   "cell_type": "code",
   "execution_count": 45,
   "id": "2f8d0db9-c6b4-4312-a4a6-8f0ad9c78d75",
   "metadata": {},
   "outputs": [
    {
     "data": {
      "text/plain": [
       "array([0.12017333, 0.86082374, 0.57048857, 0.08773201, 0.11321429,\n",
       "       0.21322012, 0.50176202, 0.61198977, 0.54070071, 0.61129126,\n",
       "       0.77719354, 0.05078959, 0.17421883, 0.37890066, 0.26595344,\n",
       "       0.423814  , 0.71994918, 0.78620518, 0.49364508, 0.95114926,\n",
       "       0.47991511, 0.74416697, 0.23994942, 0.35944749, 0.41217299,\n",
       "       0.19293079, 0.52678584, 0.24421759, 0.71243803, 0.91437656])"
      ]
     },
     "execution_count": 45,
     "metadata": {},
     "output_type": "execute_result"
    }
   ],
   "source": [
    "#6. Create a random vector of size 30 and find the mean value.\n",
    "import numpy as np \n",
    "x = np.random.random(30)\n",
    "x"
   ]
  },
  {
   "cell_type": "code",
   "execution_count": null,
   "id": "2991479b-b1ee-47f7-ad22-1a6f96507f53",
   "metadata": {},
   "outputs": [],
   "source": []
  }
 ],
 "metadata": {
  "kernelspec": {
   "display_name": "Python 3 (ipykernel)",
   "language": "python",
   "name": "python3"
  },
  "language_info": {
   "codemirror_mode": {
    "name": "ipython",
    "version": 3
   },
   "file_extension": ".py",
   "mimetype": "text/x-python",
   "name": "python",
   "nbconvert_exporter": "python",
   "pygments_lexer": "ipython3",
   "version": "3.10.5"
  }
 },
 "nbformat": 4,
 "nbformat_minor": 5
}
